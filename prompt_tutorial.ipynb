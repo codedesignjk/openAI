{
 "cells": [
  {
   "cell_type": "markdown",
   "id": "c3016be4-e923-4b60-b66a-d9d0f72ac65b",
   "metadata": {},
   "source": [
    "# Prompt Engineering #"
   ]
  },
  {
   "cell_type": "markdown",
   "id": "4d4196e3-9abc-4bb6-916c-f705647b9423",
   "metadata": {},
   "source": [
    "## Basic Example of Prompt Engineering ##"
   ]
  },
  {
   "cell_type": "code",
   "execution_count": 4,
   "id": "d6289e71-c565-45ad-8713-9f15c0b075f5",
   "metadata": {},
   "outputs": [
    {
     "name": "stdout",
     "output_type": "stream",
     "text": [
      "ChatCompletionMessage(content=\"Hello! I'm just a computer program, so I don't have feelings, but I'm here and ready to help you. How can I assist you today?\", refusal=None, role='assistant', audio=None, function_call=None, tool_calls=None)\n"
     ]
    }
   ],
   "source": [
    "from dotenv import load_dotenv\n",
    "import os\n",
    "from openai import OpenAI\n",
    "\n",
    "# Load .env file\n",
    "load_dotenv()\n",
    "\n",
    "# Set OpenAI API key\n",
    "openai.api_key = os.getenv(\"OPENAI_API_KEY\")\n",
    "\n",
    "client = OpenAI()\n",
    "\n",
    "completion = client.chat.completions.create(\n",
    "    model=\"gpt-4o-mini\",\n",
    "    messages=[\n",
    "        {\n",
    "            \"role\": \"system\", \n",
    "             \"content\": \"You are a helpful assistant.\"\n",
    "        },\n",
    "        {\n",
    "            \"role\": \"user\",\n",
    "            \"content\": \"Hi How are you ?.\"\n",
    "        }\n",
    "    ]\n",
    ")\n",
    "\n",
    "print(completion.choices[0].message)"
   ]
  },
  {
   "cell_type": "markdown",
   "id": "1983c0bd-3b59-4bae-b46d-864f0d429eda",
   "metadata": {},
   "source": [
    "# Types of Prompt Engineering #"
   ]
  },
  {
   "cell_type": "markdown",
   "id": "64fc8b9c-f869-4f7e-8992-cac500a1bb9c",
   "metadata": {},
   "source": [
    "## 1- Instruction-based Prompting: ##\n",
    "1. Directly instructing the model on what to do.\n",
    "2. Example: \"Translate the following sentence into French: 'How are you?'\""
   ]
  },
  {
   "cell_type": "code",
   "execution_count": 5,
   "id": "d3d03889-55c4-48e9-9597-c9cab1440400",
   "metadata": {},
   "outputs": [
    {
     "name": "stdout",
     "output_type": "stream",
     "text": [
      "ChatCompletionMessage(content='The translation of \"How are you?\" into Hindi is \"तुम कैसे हो?\" (for informal) or \"आप कैसे हैं?\" (for formal).', refusal=None, role='assistant', audio=None, function_call=None, tool_calls=None)\n"
     ]
    }
   ],
   "source": [
    "from dotenv import load_dotenv\n",
    "import os\n",
    "from openai import OpenAI\n",
    "\n",
    "# Load .env file\n",
    "load_dotenv()\n",
    "\n",
    "# Set OpenAI API key\n",
    "openai.api_key = os.getenv(\"OPENAI_API_KEY\")\n",
    "\n",
    "client = OpenAI()\n",
    "\n",
    "completion = client.chat.completions.create(\n",
    "    model=\"gpt-4o-mini\",\n",
    "    messages=[\n",
    "        {\n",
    "            \"role\": \"system\", \n",
    "             \"content\": \"You are a helpful assistant that translates English to Hindi.\"\n",
    "        },\n",
    "        {\n",
    "            \"role\": \"user\",\n",
    "            \"content\": \"Translate the following sentence into Hindi: 'How are you?'\"\n",
    "        }\n",
    "    ]\n",
    ")\n",
    "\n",
    "print(completion.choices[0].message)"
   ]
  },
  {
   "cell_type": "markdown",
   "id": "36283fdd-cc3e-4caa-bb7b-51445db2d403",
   "metadata": {},
   "source": [
    "# 2- Example-based Prompting #\n",
    "1. Providing examples to guide the model on the desired output.\n",
    "2. Example: \"Translate these sentences to Spanish. Example: 'Hello' -> 'Hola'. Now, translate: 'Goodbye'\""
   ]
  },
  {
   "cell_type": "code",
   "execution_count": 6,
   "id": "d71d71f7-f52f-431a-8401-893f64586d05",
   "metadata": {},
   "outputs": [
    {
     "name": "stdout",
     "output_type": "stream",
     "text": [
      "ChatCompletionMessage(content='Positive', refusal=None, role='assistant', audio=None, function_call=None, tool_calls=None)\n"
     ]
    }
   ],
   "source": [
    "from dotenv import load_dotenv\n",
    "import os\n",
    "from openai import OpenAI\n",
    "\n",
    "# Load .env file\n",
    "load_dotenv()\n",
    "\n",
    "# Set OpenAI API key\n",
    "openai.api_key = os.getenv(\"OPENAI_API_KEY\")\n",
    "\n",
    "client = OpenAI()\n",
    "\n",
    "messages = [\n",
    "    {\"role\": \"system\", \"content\": \"You are a helpful assistant that classifies numbers as either 'Positive' or 'Negative' based on their value.\"},\n",
    "    {\"role\": \"user\", \"content\": \"Classify the following number: -10\"},\n",
    "    {\"role\": \"assistant\", \"content\": \"Negative\"},\n",
    "    {\"role\": \"user\", \"content\": \"Classify the following number: 15\"},\n",
    "    {\"role\": \"assistant\", \"content\": \"Positive\"},\n",
    "    {\"role\": \"user\", \"content\": \"Now classify the following number: 7\"}\n",
    "]\n",
    "\n",
    "completion = client.chat.completions.create(\n",
    "    model=\"gpt-4o-mini\",\n",
    "    messages= messages\n",
    ")\n",
    "\n",
    "print(completion.choices[0].message)"
   ]
  },
  {
   "cell_type": "markdown",
   "id": "e2f4987d-6ee7-4c39-be28-2e58ad43e960",
   "metadata": {},
   "source": [
    "# 3- Few-shot Prompting: #\n",
    "Providing a few examples of input-output pairs to help the model understand the task.\n",
    "\n",
    "| **Example** | **Question**                            | **Answer** |\n",
    "|-------------|-----------------------------------------|------------|\n",
    "| Example 1   | What is the capital of France?          | Paris      |\n",
    "| Example 2   | What is the capital of Germany?         | Berlin     |\n",
    "| Example 3   | What is the capital of Italy?           |            |\n"
   ]
  },
  {
   "cell_type": "code",
   "execution_count": 8,
   "id": "f460a716-a94e-43b8-b501-84902ff100a2",
   "metadata": {},
   "outputs": [
    {
     "name": "stdout",
     "output_type": "stream",
     "text": [
      "ChatCompletionMessage(content='New Delhi', refusal=None, role='assistant', audio=None, function_call=None, tool_calls=None)\n"
     ]
    }
   ],
   "source": [
    "from dotenv import load_dotenv\n",
    "import os\n",
    "from openai import OpenAI\n",
    "\n",
    "# Load .env file\n",
    "load_dotenv()\n",
    "\n",
    "# Set OpenAI API key\n",
    "openai.api_key = os.getenv(\"OPENAI_API_KEY\")\n",
    "\n",
    "client = OpenAI()\n",
    "\n",
    "messages = [\n",
    "    {\"role\": \"system\", \"content\": \"You are a helpful assistant that provides the capital of various countries.\"},\n",
    "    \n",
    "    # Few-shot examples of the user asking and the assistant answering\n",
    "    {\"role\": \"user\", \"content\": \"What is the capital of France?\"},\n",
    "    {\"role\": \"assistant\", \"content\": \"Paris\"},\n",
    "    \n",
    "    {\"role\": \"user\", \"content\": \"What is the capital of Germany?\"},\n",
    "    {\"role\": \"assistant\", \"content\": \"Berlin\"},\n",
    "    \n",
    "    {\"role\": \"user\", \"content\": \"What is the capital of Italy?\"},\n",
    "    {\"role\": \"assistant\", \"content\": \"Rome\"},\n",
    "    \n",
    "    {\"role\": \"user\", \"content\": \"What is the capital of Japan?\"},\n",
    "    {\"role\": \"assistant\", \"content\": \"Tokyo\"},\n",
    "    \n",
    "    # New input for the assistant to answer based on the examples\n",
    "    {\"role\": \"user\", \"content\": \"What is the capital of India?\"}\n",
    "]\n",
    "\n",
    "completion = client.chat.completions.create(\n",
    "    model=\"gpt-4o-mini\",\n",
    "    messages= messages\n",
    ")\n",
    "\n",
    "print(completion.choices[0].message)"
   ]
  },
  {
   "cell_type": "markdown",
   "id": "c65e1106-0c7b-4bc6-ad2e-b86592df5226",
   "metadata": {},
   "source": [
    "# Difference between Example Prompting and Few Short Prompting #"
   ]
  },
  {
   "cell_type": "markdown",
   "id": "1f74d6d5-a8d3-4d83-b401-b0c5d6dbeebf",
   "metadata": {},
   "source": [
    "### Key Differences\n",
    "\n",
    "| **Aspect**             | **Example-based Prompting**                                          | **Few-shot Prompting**                                              |\n",
    "|------------------------|---------------------------------------------------------------------|--------------------------------------------------------------------|\n",
    "| **Number of Examples**  | Typically 1-2 examples.                                             | Multiple examples (usually 3-5).                                   |\n",
    "| **Complexity**          | Used for simpler tasks or when a single example is enough to show the pattern. | Used for more complex tasks where the model needs more guidance.   |\n",
    "| **Goal**                | To show the model one or two examples to infer the correct output.  | To provide more comprehensive guidance to the model with multiple examples. |\n",
    "| **Use Cases**           | Basic classification or translation tasks.                         | Tasks involving reasoning, comparisons, or multiple steps.         |\n",
    "| **Interaction**         | Usually a simple input-output pair.                                 | Typically involves several input-output pairs before asking for a new output. |\n"
   ]
  },
  {
   "cell_type": "markdown",
   "id": "40b06ecf-bd8d-4642-a47a-760d64964d0c",
   "metadata": {},
   "source": [
    "# 4- Zero-shot Prompting #\n",
    "1. Asking the model to perform a task without providing any examples.\n",
    "2. Example: \"What is the capital of Japan?\""
   ]
  },
  {
   "cell_type": "code",
   "execution_count": 12,
   "id": "81549eee-58de-42bd-b681-7c20d58b3a9e",
   "metadata": {},
   "outputs": [
    {
     "name": "stdout",
     "output_type": "stream",
     "text": [
      "ChatCompletionMessage(content='The capital of Japan is Tokyo.', refusal=None, role='assistant', audio=None, function_call=None, tool_calls=None)\n"
     ]
    }
   ],
   "source": [
    "from dotenv import load_dotenv\n",
    "import os\n",
    "from openai import OpenAI\n",
    "\n",
    "# Load .env file\n",
    "load_dotenv()\n",
    "\n",
    "# Set OpenAI API key\n",
    "openai.api_key = os.getenv(\"OPENAI_API_KEY\")\n",
    "\n",
    "client = OpenAI()\n",
    "\n",
    "messages = [\n",
    "    {\"role\": \"system\", \"content\": \"You are a helpful assistant that provides information based on general knowledge.\"},\n",
    "    \n",
    "    # User directly asking a question without any prior examples\n",
    "    {\"role\": \"user\", \"content\": \"What is the capital of Japan?\"}\n",
    "]\n",
    "\n",
    "completion = client.chat.completions.create(\n",
    "    model=\"gpt-4o-mini\",\n",
    "    messages= messages\n",
    ")\n",
    "\n",
    "print(completion.choices[0].message)"
   ]
  },
  {
   "cell_type": "markdown",
   "id": "f682ba58-e3ef-4094-87dd-0a1487136d8a",
   "metadata": {},
   "source": [
    "# 5- Chain-of-thought Prompting:\n",
    "\n",
    "* Encouraging the model to reason through a problem step-by-step.\n",
    "* Example: \"If you have 3 apples and you buy 2 more, how many apples do you have? First, count the apples you already have. Then, add the new apples. The total is...\""
   ]
  },
  {
   "cell_type": "code",
   "execution_count": 16,
   "id": "c07d7f04-95a3-4e0f-8ed4-310c8e4d67d3",
   "metadata": {},
   "outputs": [
    {
     "name": "stdout",
     "output_type": "stream",
     "text": [
      "ChatCompletionMessage(content=\"To find out how many apples John has after buying more, you can follow these steps:\\n\\n1. **Identify the initial number of apples John has**: John starts with 3 apples.\\n2. **Determine how many apples he buys**: John buys 5 more apples.\\n3. **Add the number of apples he has to the number of apples he buys**:\\n   - Initial apples (3) + Apples bought (5) = 3 + 5.\\n\\nNow let's do the addition:\\n\\n3 + 5 = 8.\\n\\nTherefore, after buying 5 more apples, John has a total of 8 apples.\\n\\nFinal answer: John has 8 apples now.\", refusal=None, role='assistant', audio=None, function_call=None, tool_calls=None)\n"
     ]
    }
   ],
   "source": [
    "from dotenv import load_dotenv\n",
    "import os\n",
    "from openai import OpenAI\n",
    "\n",
    "# Load .env file\n",
    "load_dotenv()\n",
    "\n",
    "# Set OpenAI API key\n",
    "openai.api_key = os.getenv(\"OPENAI_API_KEY\")\n",
    "\n",
    "client = OpenAI()\n",
    "\n",
    "# Define the conversation with system, user, and assistant roles\n",
    "messages = [\n",
    "    {\"role\": \"system\", \"content\": \"You are a helpful assistant that explains your reasoning step-by-step before providing the final answer.\"},\n",
    "    \n",
    "    # User asks a question that involves simple addition\n",
    "    {\"role\": \"user\", \"content\": \"If John has 3 apples and he buys 5 more, how many apples does he have now?\"}\n",
    "]\n",
    "\n",
    "completion = client.chat.completions.create(\n",
    "    model=\"gpt-4o-mini\",\n",
    "    messages= messages\n",
    ")\n",
    "\n",
    "print(completion.choices[0].message)"
   ]
  },
  {
   "cell_type": "markdown",
   "id": "5de04552-a302-476c-ae2c-e09b0038c89f",
   "metadata": {},
   "source": [
    "# 6- Meta-prompting\n",
    "* Designing prompts that help the model understand the context or domain better.\n",
    "* Example: \"You are an expert in computer science. Explain the concept of machine learning.\""
   ]
  },
  {
   "cell_type": "code",
   "execution_count": 19,
   "id": "02f537bf-ab10-487f-b0a2-e8c1703d3670",
   "metadata": {},
   "outputs": [
    {
     "name": "stdout",
     "output_type": "stream",
     "text": [
      "ChatCompletionMessage(content='The task is to analyze the sentiment of a review. \\n\\nThe sentiment of the review is positive. The reviewer expresses love for the new phone and highlights its great features and perfect performance, indicating a high level of satisfaction.', refusal=None, role='assistant', audio=None, function_call=None, tool_calls=None)\n"
     ]
    }
   ],
   "source": [
    "from dotenv import load_dotenv\n",
    "import os\n",
    "from openai import OpenAI\n",
    "\n",
    "# Load .env file\n",
    "load_dotenv()\n",
    "\n",
    "# Set OpenAI API key\n",
    "openai.api_key = os.getenv(\"OPENAI_API_KEY\")\n",
    "\n",
    "client = OpenAI()\n",
    "\n",
    "# Define the conversation with system, user, and assistant roles\n",
    "messages = [\n",
    "    {\"role\": \"system\", \"content\": \"You are a helpful assistant. When given a task, first identify what type of task it is, then proceed to perform it.\"},\n",
    "    \n",
    "    # User provides a text review for sentiment analysis\n",
    "    {\"role\": \"user\", \"content\": \"I love the new phone I bought! It has great features and works perfectly. Please provide the sentiment of this review.\"}\n",
    "]\n",
    "\n",
    "completion = client.chat.completions.create(\n",
    "    model=\"gpt-4o-mini\",\n",
    "    messages= messages\n",
    ")\n",
    "\n",
    "print(completion.choices[0].message)"
   ]
  },
  {
   "cell_type": "markdown",
   "id": "7dff096c-2f3e-499f-81d6-33aea0003b4d",
   "metadata": {},
   "source": [
    "# 7- Contextual Prompting:\n",
    "* Embedding the prompt in a larger context to guide the model’s response.\n",
    "* Example:\n",
    "* In a conversation about cooking, a user asks:\n",
    "* User: What is the best way to cook pasta?\n",
    "* Assistant:"
   ]
  },
  {
   "cell_type": "code",
   "execution_count": 20,
   "id": "1642fda9-a789-45f0-9358-268940dd076a",
   "metadata": {},
   "outputs": [
    {
     "name": "stdout",
     "output_type": "stream",
     "text": [
      "ChatCompletionMessage(content='The key benefits of this 4K Ultra HD television include:\\n\\n1. **High Picture Quality**: The 4K Ultra HD resolution offers enhanced picture clarity and detail for an immersive viewing experience.\\n2. **Smart TV Capabilities**: Built-in streaming apps allow easy access to a wide range of content without the need for additional devices.\\n3. **Voice Control**: Convenient voice control features provide effortless navigation and operation of the TV.\\n4. **Energy Efficiency**: The energy-efficient design helps reduce power consumption, making it an eco-friendly choice.', refusal=None, role='assistant', audio=None, function_call=None, tool_calls=None)\n"
     ]
    }
   ],
   "source": [
    "from dotenv import load_dotenv\n",
    "import os\n",
    "from openai import OpenAI\n",
    "\n",
    "# Load .env file\n",
    "load_dotenv()\n",
    "\n",
    "# Set OpenAI API key\n",
    "openai.api_key = os.getenv(\"OPENAI_API_KEY\")\n",
    "\n",
    "client = OpenAI()\n",
    "\n",
    "# Define the conversation with system, user, and assistant roles\n",
    "# Define the conversation with system, user, and assistant roles\n",
    "messages = [\n",
    "    {\"role\": \"system\", \"content\": \"You are a helpful assistant that uses the provided context to generate accurate and relevant responses.\"},\n",
    "    \n",
    "    # Provide context about the product\n",
    "    {\"role\": \"user\", \"content\": \"This is a 4K Ultra HD television with Smart TV capabilities. It has built-in streaming apps, voice control, and an energy-efficient design.\"},\n",
    "    \n",
    "    # Ask the assistant to summarize the key benefits of the product\n",
    "    {\"role\": \"user\", \"content\": \"Based on the information provided, please summarize the key benefits of this television.\"}\n",
    "]\n",
    "\n",
    "completion = client.chat.completions.create(\n",
    "    model=\"gpt-4o-mini\",\n",
    "    messages= messages\n",
    ")\n",
    "\n",
    "print(completion.choices[0].message)"
   ]
  },
  {
   "cell_type": "markdown",
   "id": "f8323e82-39f9-47f1-9809-5c682e62cb93",
   "metadata": {},
   "source": [
    "# 8- Role-based Prompting::\n",
    "* Assigning the model a specific role to play in the interaction.\n",
    "* Example: \"You are a helpful assistant. Provide advice on how to improve time management.\""
   ]
  },
  {
   "cell_type": "code",
   "execution_count": 26,
   "id": "5ddd199e-010a-42e7-895c-27f046a5de1e",
   "metadata": {},
   "outputs": [
    {
     "name": "stdout",
     "output_type": "stream",
     "text": [
      "ChatCompletionMessage(content=\"Of course! Let's solve the equation step-by-step.\\n\\nThe equation we have is:\\n\\\\[ 2x + 5 = 15 \\\\]\\n\\n**Step 1: Isolate the term with \\\\(x\\\\)**  \\nWe want to get \\\\(2x\\\\) by itself on one side of the equation. To do this, we will subtract \\\\(5\\\\) from both sides. \\n\\nSo, we do:\\n\\\\[ 2x + 5 - 5 = 15 - 5 \\\\]\\n\\nThis simplifies to:\\n\\\\[ 2x = 10 \\\\]\\n\\n**Step 2: Solve for \\\\(x\\\\)**  \\nNow we need to get \\\\(x\\\\) by itself. Right now, we have \\\\(2x\\\\). We can do this by dividing both sides of the equation by \\\\(2\\\\):\\n\\nSo we have:\\n\\\\[ \\\\frac{2x}{2} = \\\\frac{10}{2} \\\\]\\n\\nThis simplifies to:\\n\\\\[ x = 5 \\\\]\\n\\n**Final Answer:**\\nThe solution to the equation is:\\n\\\\[ x = 5 \\\\]\\n\\nYou can double-check this by substituting \\\\(x\\\\) back into the original equation:\\n\\\\[ 2(5) + 5 = 10 + 5 = 15 \\\\]  \\nThis confirms that our solution is correct!\", refusal=None, role='assistant', audio=None, function_call=None, tool_calls=None)\n"
     ]
    }
   ],
   "source": [
    "from dotenv import load_dotenv\n",
    "import os\n",
    "from openai import OpenAI\n",
    "\n",
    "# Load .env file\n",
    "load_dotenv()\n",
    "\n",
    "# Set OpenAI API key\n",
    "openai.api_key = os.getenv(\"OPENAI_API_KEY\")\n",
    "\n",
    "client = OpenAI()\n",
    "\n",
    "# Define the conversation with system, user, and assistant roles\n",
    "messages = [\n",
    "    {\"role\": \"system\", \"content\": \"You are a helpful math tutor. Your task is to help the student solve equations step-by-step and explain each step clearly\"},\n",
    "    \n",
    "    # User (student) asks for help solving the equation\n",
    "    {\"role\": \"user\", \"content\": \"Can you help me solve the equation 2x + 5 = 15?\"}\n",
    "]\n",
    "\n",
    "completion = client.chat.completions.create(\n",
    "    model=\"gpt-4o-mini\",\n",
    "    messages= messages\n",
    ")\n",
    "\n",
    "print(completion.choices[0].message)"
   ]
  },
  {
   "cell_type": "markdown",
   "id": "ed024b56-8e36-4432-9138-b979f767e4e4",
   "metadata": {},
   "source": [
    "# 9- Multimodal Prompting:\n",
    "* Combining text prompts with other modalities (images, audio, etc.) to enhance the task.\n",
    "* Example: \"Analyze the sentiment of the following image and text: [image] 'This is a beautiful day.'\""
   ]
  },
  {
   "cell_type": "code",
   "execution_count": 27,
   "id": "acd5b81a-1747-4b2b-adec-ac4f2ba146e5",
   "metadata": {},
   "outputs": [
    {
     "name": "stdout",
     "output_type": "stream",
     "text": [
      "ChatCompletionMessage(content='A sunny beach scene with people enjoying the waves embodies the essence of relaxation in several ways. \\n\\n1. **Natural Environment**: The beach often symbolizes tranquility and escape from daily stress. The sun, sand, and water create a calming ambiance that encourages relaxation.\\n\\n2. **Physical Activity**: People enjoying the waves might be swimming, surfing, or simply playing in the water, which can be both refreshing and invigorating, helping to release endorphins that promote feelings of happiness and relaxation.\\n\\n3. **Social Interaction**: The presence of others, whether friends or family, enhances the feeling of community and enjoyment, contributing to a relaxed mindset. Shared experiences often lead to laughter and a sense of connection.\\n\\n4. **Mindfulness**: Being at the beach allows individuals to immerse themselves in the moment, focusing on the sounds of the waves, the warmth of the sun, and the feeling of the sand—elements that promote mindfulness and a break from the hustle and bustle of everyday life.\\n\\n5. **Aesthetic Pleasure**: The visual beauty of a sunny beach—the vibrant colors, the sparkle of water, and the horizon—can have a soothing effect, creating a mental escape that is associated with relaxation.\\n\\nOverall, this scene effectively illustrates the many ways that a beach setting fosters relaxation, making it a popular destination for those seeking to unwind and recharge.', refusal=None, role='assistant', audio=None, function_call=None, tool_calls=None)\n"
     ]
    }
   ],
   "source": [
    "from dotenv import load_dotenv\n",
    "import os\n",
    "from openai import OpenAI\n",
    "\n",
    "# Load .env file\n",
    "load_dotenv()\n",
    "\n",
    "# Set OpenAI API key\n",
    "openai.api_key = os.getenv(\"OPENAI_API_KEY\")\n",
    "\n",
    "client = OpenAI()\n",
    "\n",
    "# Define the conversation with system, user, and assistant roles\n",
    "messages = [\n",
    "    {\"role\": \"system\", \"content\": \"You are an assistant that can interpret both text and images to provide a coherent response.\"},\n",
    "    \n",
    "    # User provides text and image description\n",
    "    {\"role\": \"user\", \"content\": \"Here is a picture of a sunny beach with people enjoying the waves. How does this scene relate to the idea of relaxation?\"}\n",
    "]\n",
    "\n",
    "completion = client.chat.completions.create(\n",
    "    model=\"gpt-4o-mini\",\n",
    "    messages= messages\n",
    ")\n",
    "\n",
    "print(completion.choices[0].message)"
   ]
  },
  {
   "cell_type": "code",
   "execution_count": null,
   "id": "f12ce673-6064-4d38-aa44-aabb861fb346",
   "metadata": {},
   "outputs": [],
   "source": []
  }
 ],
 "metadata": {
  "kernelspec": {
   "display_name": "Python 3 (ipykernel)",
   "language": "python",
   "name": "python3"
  },
  "language_info": {
   "codemirror_mode": {
    "name": "ipython",
    "version": 3
   },
   "file_extension": ".py",
   "mimetype": "text/x-python",
   "name": "python",
   "nbconvert_exporter": "python",
   "pygments_lexer": "ipython3",
   "version": "3.10.12"
  }
 },
 "nbformat": 4,
 "nbformat_minor": 5
}
